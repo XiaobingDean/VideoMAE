{
 "cells": [
  {
   "cell_type": "code",
   "execution_count": 1,
   "id": "10a73869-80a1-4d3f-8db2-a46afe1de48a",
   "metadata": {},
   "outputs": [],
   "source": [
    "from modeling_pretrain import PretrainVisionTransformer\n",
    "import torch\n",
    "import torch.nn as nn\n",
    "\n",
    "# Define input parameters\n",
    "batch_size = 48\n",
    "img_size = 160\n",
    "patch_size = 40\n",
    "channels = 3\n",
    "embed_dim = 768\n",
    "depth = 12\n",
    "num_heads = 12\n",
    "mlp_ratio = 4.0\n",
    "qkv_bias = True\n",
    "drop_rate = 0.1\n",
    "attn_drop_rate = 0.1\n",
    "drop_path_rate = 0.1\n",
    "\n",
    "# Generate random input data for testing\n",
    "images = torch.randn(batch_size, channels, 160, 90)\n",
    "ray_origins = torch.randn(batch_size, channels ,160, 90)  # Corrected to match expected input shape\n",
    "ray_directions = torch.randn(batch_size, channels, 160, 90)\n",
    "mask = torch.randint(0, 2, (batch_size, (160 // 40) ** 2)).bool()\n"
   ]
  },
  {
   "cell_type": "code",
   "execution_count": 2,
   "id": "9e7d02e3-cd60-497a-9eb6-52c5ad50a3fa",
   "metadata": {},
   "outputs": [
    {
     "data": {
      "text/plain": [
       "torch.Size([48, 3, 160, 90])"
      ]
     },
     "execution_count": 2,
     "metadata": {},
     "output_type": "execute_result"
    }
   ],
   "source": [
    "images.shape"
   ]
  },
  {
   "cell_type": "code",
   "execution_count": 3,
   "id": "4f05f033-2ecd-4d57-8047-c558dd5660c4",
   "metadata": {},
   "outputs": [
    {
     "data": {
      "text/plain": [
       "torch.Size([48, 3, 160, 90])"
      ]
     },
     "execution_count": 3,
     "metadata": {},
     "output_type": "execute_result"
    }
   ],
   "source": [
    "ray_origins.shape"
   ]
  },
  {
   "cell_type": "code",
   "execution_count": 5,
   "id": "1aa2cb89-7025-4bda-adac-5d9711a53f08",
   "metadata": {},
   "outputs": [
    {
     "data": {
      "text/plain": [
       "torch.Size([48, 16])"
      ]
     },
     "execution_count": 5,
     "metadata": {},
     "output_type": "execute_result"
    }
   ],
   "source": [
    "mask.shape"
   ]
  },
  {
   "cell_type": "code",
   "execution_count": 2,
   "id": "f18476c9-9fee-4356-a60e-a985aed58304",
   "metadata": {},
   "outputs": [
    {
     "ename": "RuntimeError",
     "evalue": "Mask size mismatch: Expected 2400 elements, got 768.",
     "output_type": "error",
     "traceback": [
      "\u001b[0;31m---------------------------------------------------------------------------\u001b[0m",
      "\u001b[0;31mRuntimeError\u001b[0m                              Traceback (most recent call last)",
      "Cell \u001b[0;32mIn [2], line 26\u001b[0m\n\u001b[1;32m      2\u001b[0m model \u001b[38;5;241m=\u001b[39m PretrainVisionTransformer(\n\u001b[1;32m      3\u001b[0m     img_size\u001b[38;5;241m=\u001b[39mimg_size,\n\u001b[1;32m      4\u001b[0m     patch_size\u001b[38;5;241m=\u001b[39mpatch_size,\n\u001b[0;32m   (...)\u001b[0m\n\u001b[1;32m     22\u001b[0m     use_checkpoint\u001b[38;5;241m=\u001b[39m\u001b[38;5;28;01mFalse\u001b[39;00m\n\u001b[1;32m     23\u001b[0m )\n\u001b[1;32m     25\u001b[0m \u001b[38;5;66;03m# Run a forward pass with the test data\u001b[39;00m\n\u001b[0;32m---> 26\u001b[0m output \u001b[38;5;241m=\u001b[39m \u001b[43mmodel\u001b[49m\u001b[43m(\u001b[49m\u001b[43mimages\u001b[49m\u001b[43m,\u001b[49m\u001b[43m \u001b[49m\u001b[43mray_origins\u001b[49m\u001b[43m,\u001b[49m\u001b[43m \u001b[49m\u001b[43mray_directions\u001b[49m\u001b[43m,\u001b[49m\u001b[43m \u001b[49m\u001b[43mmask\u001b[49m\u001b[43m)\u001b[49m\n\u001b[1;32m     28\u001b[0m \u001b[38;5;66;03m# Print the output shape to verify everything is working correctly\u001b[39;00m\n\u001b[1;32m     29\u001b[0m \u001b[38;5;28mprint\u001b[39m(\u001b[38;5;124m\"\u001b[39m\u001b[38;5;124mOutput shape:\u001b[39m\u001b[38;5;124m\"\u001b[39m, output\u001b[38;5;241m.\u001b[39mshape)\n",
      "File \u001b[0;32m~/miniconda3/lib/python3.8/site-packages/torch/nn/modules/module.py:1051\u001b[0m, in \u001b[0;36mModule._call_impl\u001b[0;34m(self, *input, **kwargs)\u001b[0m\n\u001b[1;32m   1047\u001b[0m \u001b[38;5;66;03m# If we don't have any hooks, we want to skip the rest of the logic in\u001b[39;00m\n\u001b[1;32m   1048\u001b[0m \u001b[38;5;66;03m# this function, and just call forward.\u001b[39;00m\n\u001b[1;32m   1049\u001b[0m \u001b[38;5;28;01mif\u001b[39;00m \u001b[38;5;129;01mnot\u001b[39;00m (\u001b[38;5;28mself\u001b[39m\u001b[38;5;241m.\u001b[39m_backward_hooks \u001b[38;5;129;01mor\u001b[39;00m \u001b[38;5;28mself\u001b[39m\u001b[38;5;241m.\u001b[39m_forward_hooks \u001b[38;5;129;01mor\u001b[39;00m \u001b[38;5;28mself\u001b[39m\u001b[38;5;241m.\u001b[39m_forward_pre_hooks \u001b[38;5;129;01mor\u001b[39;00m _global_backward_hooks\n\u001b[1;32m   1050\u001b[0m         \u001b[38;5;129;01mor\u001b[39;00m _global_forward_hooks \u001b[38;5;129;01mor\u001b[39;00m _global_forward_pre_hooks):\n\u001b[0;32m-> 1051\u001b[0m     \u001b[38;5;28;01mreturn\u001b[39;00m \u001b[43mforward_call\u001b[49m\u001b[43m(\u001b[49m\u001b[38;5;241;43m*\u001b[39;49m\u001b[38;5;28;43minput\u001b[39;49m\u001b[43m,\u001b[49m\u001b[43m \u001b[49m\u001b[38;5;241;43m*\u001b[39;49m\u001b[38;5;241;43m*\u001b[39;49m\u001b[43mkwargs\u001b[49m\u001b[43m)\u001b[49m\n\u001b[1;32m   1052\u001b[0m \u001b[38;5;66;03m# Do not call functions when jit is used\u001b[39;00m\n\u001b[1;32m   1053\u001b[0m full_backward_hooks, non_full_backward_hooks \u001b[38;5;241m=\u001b[39m [], []\n",
      "File \u001b[0;32m~/autodl-tmp/VideoMAE/modeling_pretrain.py:166\u001b[0m, in \u001b[0;36mPretrainVisionTransformer.forward\u001b[0;34m(self, patches, ray_origins, ray_directions, mask)\u001b[0m\n\u001b[1;32m    165\u001b[0m \u001b[38;5;28;01mdef\u001b[39;00m \u001b[38;5;21mforward\u001b[39m(\u001b[38;5;28mself\u001b[39m, patches, ray_origins, ray_directions, mask):\n\u001b[0;32m--> 166\u001b[0m     x_vis \u001b[38;5;241m=\u001b[39m \u001b[38;5;28;43mself\u001b[39;49m\u001b[38;5;241;43m.\u001b[39;49m\u001b[43mencoder\u001b[49m\u001b[43m(\u001b[49m\u001b[43mpatches\u001b[49m\u001b[43m,\u001b[49m\u001b[43m \u001b[49m\u001b[43mray_origins\u001b[49m\u001b[43m,\u001b[49m\u001b[43m \u001b[49m\u001b[43mray_directions\u001b[49m\u001b[43m,\u001b[49m\u001b[43m \u001b[49m\u001b[43mmask\u001b[49m\u001b[43m)\u001b[49m  \u001b[38;5;66;03m# [B, N_vis, C_e]\u001b[39;00m\n\u001b[1;32m    167\u001b[0m     x_vis \u001b[38;5;241m=\u001b[39m \u001b[38;5;28mself\u001b[39m\u001b[38;5;241m.\u001b[39mencoder_to_decoder(x_vis)  \u001b[38;5;66;03m# [B, N_vis, C_d]\u001b[39;00m\n\u001b[1;32m    168\u001b[0m     B, N, C \u001b[38;5;241m=\u001b[39m x_vis\u001b[38;5;241m.\u001b[39mshape\n",
      "File \u001b[0;32m~/miniconda3/lib/python3.8/site-packages/torch/nn/modules/module.py:1051\u001b[0m, in \u001b[0;36mModule._call_impl\u001b[0;34m(self, *input, **kwargs)\u001b[0m\n\u001b[1;32m   1047\u001b[0m \u001b[38;5;66;03m# If we don't have any hooks, we want to skip the rest of the logic in\u001b[39;00m\n\u001b[1;32m   1048\u001b[0m \u001b[38;5;66;03m# this function, and just call forward.\u001b[39;00m\n\u001b[1;32m   1049\u001b[0m \u001b[38;5;28;01mif\u001b[39;00m \u001b[38;5;129;01mnot\u001b[39;00m (\u001b[38;5;28mself\u001b[39m\u001b[38;5;241m.\u001b[39m_backward_hooks \u001b[38;5;129;01mor\u001b[39;00m \u001b[38;5;28mself\u001b[39m\u001b[38;5;241m.\u001b[39m_forward_hooks \u001b[38;5;129;01mor\u001b[39;00m \u001b[38;5;28mself\u001b[39m\u001b[38;5;241m.\u001b[39m_forward_pre_hooks \u001b[38;5;129;01mor\u001b[39;00m _global_backward_hooks\n\u001b[1;32m   1050\u001b[0m         \u001b[38;5;129;01mor\u001b[39;00m _global_forward_hooks \u001b[38;5;129;01mor\u001b[39;00m _global_forward_pre_hooks):\n\u001b[0;32m-> 1051\u001b[0m     \u001b[38;5;28;01mreturn\u001b[39;00m \u001b[43mforward_call\u001b[49m\u001b[43m(\u001b[49m\u001b[38;5;241;43m*\u001b[39;49m\u001b[38;5;28;43minput\u001b[39;49m\u001b[43m,\u001b[49m\u001b[43m \u001b[49m\u001b[38;5;241;43m*\u001b[39;49m\u001b[38;5;241;43m*\u001b[39;49m\u001b[43mkwargs\u001b[49m\u001b[43m)\u001b[49m\n\u001b[1;32m   1052\u001b[0m \u001b[38;5;66;03m# Do not call functions when jit is used\u001b[39;00m\n\u001b[1;32m   1053\u001b[0m full_backward_hooks, non_full_backward_hooks \u001b[38;5;241m=\u001b[39m [], []\n",
      "File \u001b[0;32m~/autodl-tmp/VideoMAE/modeling_pretrain.py:81\u001b[0m, in \u001b[0;36mPretrainVisionTransformerEncoder.forward\u001b[0;34m(self, patches, ray_origins, ray_directions, mask)\u001b[0m\n\u001b[1;32m     80\u001b[0m \u001b[38;5;28;01mdef\u001b[39;00m \u001b[38;5;21mforward\u001b[39m(\u001b[38;5;28mself\u001b[39m, patches, ray_origins, ray_directions, mask):\n\u001b[0;32m---> 81\u001b[0m     \u001b[38;5;28;01mreturn\u001b[39;00m \u001b[38;5;28;43mself\u001b[39;49m\u001b[38;5;241;43m.\u001b[39;49m\u001b[43mforward_features\u001b[49m\u001b[43m(\u001b[49m\u001b[43mpatches\u001b[49m\u001b[43m,\u001b[49m\u001b[43m \u001b[49m\u001b[43mray_origins\u001b[49m\u001b[43m,\u001b[49m\u001b[43m \u001b[49m\u001b[43mray_directions\u001b[49m\u001b[43m,\u001b[49m\u001b[43m \u001b[49m\u001b[43mmask\u001b[49m\u001b[43m)\u001b[49m\n",
      "File \u001b[0;32m~/autodl-tmp/VideoMAE/modeling_pretrain.py:60\u001b[0m, in \u001b[0;36mPretrainVisionTransformerEncoder.forward_features\u001b[0;34m(self, patches, ray_origins, ray_directions, mask)\u001b[0m\n\u001b[1;32m     58\u001b[0m \u001b[38;5;66;03m# Ensure mask size matches the number of patches\u001b[39;00m\n\u001b[1;32m     59\u001b[0m \u001b[38;5;28;01mif\u001b[39;00m mask\u001b[38;5;241m.\u001b[39mnumel() \u001b[38;5;241m!=\u001b[39m expected_mask_size:\n\u001b[0;32m---> 60\u001b[0m     \u001b[38;5;28;01mraise\u001b[39;00m \u001b[38;5;167;01mRuntimeError\u001b[39;00m(\u001b[38;5;124mf\u001b[39m\u001b[38;5;124m\"\u001b[39m\u001b[38;5;124mMask size mismatch: Expected \u001b[39m\u001b[38;5;132;01m{\u001b[39;00mexpected_mask_size\u001b[38;5;132;01m}\u001b[39;00m\u001b[38;5;124m elements, got \u001b[39m\u001b[38;5;132;01m{\u001b[39;00mmask\u001b[38;5;241m.\u001b[39mnumel()\u001b[38;5;132;01m}\u001b[39;00m\u001b[38;5;124m.\u001b[39m\u001b[38;5;124m\"\u001b[39m)\n\u001b[1;32m     62\u001b[0m \u001b[38;5;66;03m# Reshape mask to match the number of patches\u001b[39;00m\n\u001b[1;32m     63\u001b[0m mask \u001b[38;5;241m=\u001b[39m mask\u001b[38;5;241m.\u001b[39mview(B, num_patches_actual)\n",
      "\u001b[0;31mRuntimeError\u001b[0m: Mask size mismatch: Expected 2400 elements, got 768."
     ]
    }
   ],
   "source": [
    "\n",
    "# Initialize the PretrainVisionTransformer model\n",
    "model = PretrainVisionTransformer(\n",
    "    img_size=img_size,\n",
    "    patch_size=patch_size,\n",
    "    encoder_in_chans=9,\n",
    "    encoder_num_classes=0,\n",
    "    encoder_embed_dim=embed_dim,\n",
    "    encoder_depth=depth,\n",
    "    encoder_num_heads=num_heads,\n",
    "    decoder_num_classes=3 * patch_size ** 2,\n",
    "    decoder_embed_dim=512,\n",
    "    decoder_depth=8,\n",
    "    decoder_num_heads=8,\n",
    "    mlp_ratio=mlp_ratio,\n",
    "    qkv_bias=qkv_bias,\n",
    "    drop_rate=drop_rate,\n",
    "    attn_drop_rate=attn_drop_rate,\n",
    "    drop_path_rate=drop_path_rate,\n",
    "    norm_layer=nn.LayerNorm,\n",
    "    init_values=0.,\n",
    "    use_learnable_pos_emb=False,\n",
    "    use_checkpoint=False\n",
    ")\n",
    "\n",
    "# Run a forward pass with the test data\n",
    "output = model(images, ray_origins, ray_directions, mask)\n",
    "\n",
    "# Print the output shape to verify everything is working correctly\n",
    "print(\"Output shape:\", output.shape)"
   ]
  },
  {
   "cell_type": "code",
   "execution_count": 1,
   "id": "c7cef274-18db-4e86-823c-f7f72809badc",
   "metadata": {},
   "outputs": [],
   "source": [
    "from modeling_pretrain import pretrain_videomae_base_patch16_224  \n",
    "import torch\n",
    "model = pretrain_videomae_base_patch16_224()\n",
    "#patch_size = model.encoder.patch_embed.patch_size"
   ]
  },
  {
   "cell_type": "code",
   "execution_count": 4,
   "id": "77a882fa-b464-4f29-96e8-b0a198b10fe4",
   "metadata": {},
   "outputs": [
    {
     "name": "stdout",
     "output_type": "stream",
     "text": [
      "Output shape: torch.Size([32, 60, 8100])\n"
     ]
    }
   ],
   "source": [
    "images = torch.randn(32,60, 3, 30, 30)\n",
    "camera_positions = images\n",
    "ray_directions = images\n",
    "#mask = torch.rand(70).bool().repeat(48,1,768)\n",
    "mask = (torch.rand(60)>0.5).repeat(32,1)\n",
    "#mask = torch.rand((48,2,768)).bool()\n",
    "output = model(images, camera_positions, ray_directions, mask)\n",
    "\n",
    "# Print the output shape to verify everything is working correctly\n",
    "print(\"Output shape:\", output.shape)"
   ]
  },
  {
   "cell_type": "code",
   "execution_count": 5,
   "id": "d2785892-a293-407d-aaa6-11baee5ac189",
   "metadata": {},
   "outputs": [],
   "source": []
  },
  {
   "cell_type": "code",
   "execution_count": null,
   "id": "29397fef-b931-41d8-8b5d-6f4129e1af7a",
   "metadata": {},
   "outputs": [],
   "source": []
  }
 ],
 "metadata": {
  "kernelspec": {
   "display_name": "Python 3 (ipykernel)",
   "language": "python",
   "name": "python3"
  },
  "language_info": {
   "codemirror_mode": {
    "name": "ipython",
    "version": 3
   },
   "file_extension": ".py",
   "mimetype": "text/x-python",
   "name": "python",
   "nbconvert_exporter": "python",
   "pygments_lexer": "ipython3",
   "version": "3.8.10"
  }
 },
 "nbformat": 4,
 "nbformat_minor": 5
}
