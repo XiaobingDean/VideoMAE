{
 "cells": [
  {
   "cell_type": "code",
   "execution_count": 1,
   "id": "cf0b7b44-2768-40b1-a313-a848d3426855",
   "metadata": {},
   "outputs": [
    {
     "name": "stdout",
     "output_type": "stream",
     "text": [
      "226 ['.ipynb_checkpoints', '0', '04.zip', '05.zip', '06.zip', '07.zip', '1', '10', '100', '101', '102', '103', '104', '105', '106', '107', '108', '109', '11', '110', '111', '112', '113', '114', '115', '116', '118', '119', '12', '120', '121', '122', '124', '125', '126', '127', '129', '13', '130', '131', '132', '133', '134', '135', '136', '137', '138', '139', '14', '141', '144', '145', '146', '147', '148', '149', '15', '150', '152', '153', '154', '155', '156', '157', '158', '159', '16', '160', '161', '162', '163', '164', '165', '166', '167', '168', '169', '17', '170', '171', '172', '173', '174', '175', '176', '177', '178', '179', '18', '180', '181', '182', '183', '184', '185', '186', '187', '188', '189', '19', '190', '191', '192', '193', '194', '195', '196', '197', '198', '199', '2', '20', '200', '205', '206', '207', '208', '21', '211', '212', '215', '216', '217', '218', '219', '22', '220', '222', '224', '225', '226', '227', '228', '229', '23', '230', '231', '232', '233', '234', '237', '24', '240', '241', '243', '246', '25', '251', '252', '253', '26', '266', '267', '27', '28', '29', '3', '30', '31', '32', '33', '34', '35', '36', '37', '38', '39', '4', '40', '41', '42', '43', '44', '45', '46', '47', '48', '49', '5', '50', '51', '52', '53', '54', '55', '56', '57', '58', '59', '6', '60', '61', '62', '63', '64', '65', '66', '67', '68', '69', '7', '70', '71', '72', '73', '74', '75', '76', '77', '78', '79', '8', '82', '83', '85', '86', '87', '88', '9', '90', '93', '94', '96', '97', '98', '99']\n"
     ]
    }
   ],
   "source": [
    "import os\n",
    "\n",
    "folders = os.listdir('./data')\n",
    "folders.sort()\n",
    "print(len(folders), folders)"
   ]
  },
  {
   "cell_type": "code",
   "execution_count": 2,
   "id": "531bd0f8-b22f-4a54-a299-8fcc6baf8e36",
   "metadata": {},
   "outputs": [],
   "source": [
    "folders.pop(0)\n",
    "folders.pop(0)\n",
    "\n",
    "for i in range(4, 8, 1):\n",
    "    folders.remove('0' + str(i) + '.zip')"
   ]
  },
  {
   "cell_type": "code",
   "execution_count": 3,
   "id": "884f1455-6cfe-4f36-872e-929f98d4cdce",
   "metadata": {},
   "outputs": [
    {
     "name": "stdout",
     "output_type": "stream",
     "text": [
      "220 ['1', '10', '100', '101', '102', '103', '104', '105', '106', '107', '108', '109', '11', '110', '111', '112', '113', '114', '115', '116', '118', '119', '12', '120', '121', '122', '124', '125', '126', '127', '129', '13', '130', '131', '132', '133', '134', '135', '136', '137', '138', '139', '14', '141', '144', '145', '146', '147', '148', '149', '15', '150', '152', '153', '154', '155', '156', '157', '158', '159', '16', '160', '161', '162', '163', '164', '165', '166', '167', '168', '169', '17', '170', '171', '172', '173', '174', '175', '176', '177', '178', '179', '18', '180', '181', '182', '183', '184', '185', '186', '187', '188', '189', '19', '190', '191', '192', '193', '194', '195', '196', '197', '198', '199', '2', '20', '200', '205', '206', '207', '208', '21', '211', '212', '215', '216', '217', '218', '219', '22', '220', '222', '224', '225', '226', '227', '228', '229', '23', '230', '231', '232', '233', '234', '237', '24', '240', '241', '243', '246', '25', '251', '252', '253', '26', '266', '267', '27', '28', '29', '3', '30', '31', '32', '33', '34', '35', '36', '37', '38', '39', '4', '40', '41', '42', '43', '44', '45', '46', '47', '48', '49', '5', '50', '51', '52', '53', '54', '55', '56', '57', '58', '59', '6', '60', '61', '62', '63', '64', '65', '66', '67', '68', '69', '7', '70', '71', '72', '73', '74', '75', '76', '77', '78', '79', '8', '82', '83', '85', '86', '87', '88', '9', '90', '93', '94', '96', '97', '98', '99']\n"
     ]
    }
   ],
   "source": [
    "print(len(folders), folders)"
   ]
  },
  {
   "cell_type": "code",
   "execution_count": 4,
   "id": "70a310d4-a407-4345-bd41-79ea8fc52d72",
   "metadata": {},
   "outputs": [
    {
     "name": "stdout",
     "output_type": "stream",
     "text": [
      "6 ./data/1/14015ecf/images_12\n",
      "5 ./data/154/090001d3/images_12\n",
      "5 ./data/215/08006004/images_12\n",
      "5 ./data/219/15010024/images_12\n"
     ]
    }
   ],
   "source": [
    "scene_count = 0\n",
    "img_count = 0\n",
    "scene_min = 999999\n",
    "scene_max = -1\n",
    "img_min = 999999\n",
    "img_max = -1\n",
    "\n",
    "scene_min_path = None\n",
    "scene_max_path = None\n",
    "img_min_path = None\n",
    "img_max_path = None\n",
    "\n",
    "import shutil\n",
    "\n",
    "for f in folders:\n",
    "    sub = os.listdir(os.path.join('./data', f))\n",
    "\n",
    "    num_scenes = len(sub)\n",
    "    scene_count += num_scenes\n",
    "\n",
    "    if num_scenes < scene_min:\n",
    "        scene_min = num_scenes\n",
    "        scene_min_path = sub\n",
    "\n",
    "    if num_scenes > scene_max:\n",
    "        scene_max = num_scenes\n",
    "        scene_max_path = sub\n",
    "            \n",
    "    for s in sub:\n",
    "        imgs = len(os.listdir(os.path.join(os.path.join('./data', f), s, 'images_12')))\n",
    "        # if os.path.exists(os.path.join(os.path.join('./data', f), s, 'images', '.ipynb_checkpoints')):\n",
    "        #     shutil.rmtree(os.path.join(os.path.join('./data', f), s, 'images', '.ipynb_checkpoints'))\n",
    "        #     print(os.path.join(os.path.join('./data', f), s, 'images', '.ipynb_checkpoints'), 'removed')\n",
    "        if imgs <= 6:\n",
    "            print(imgs, os.path.join(os.path.join('./data', f), s, 'images_12'))\n",
    "            #shutil.rmtree(os.path.join(os.path.join('./data', f), s))\n",
    "        img_count += imgs\n",
    "\n",
    "        if imgs < img_min:\n",
    "            img_min = imgs\n",
    "            img_min_path = os.path.join(os.path.join('./data', f), s, 'images_12')\n",
    "\n",
    "        if imgs > img_max:\n",
    "            img_max = imgs\n",
    "            img_max_path = os.path.join(os.path.join('./data', f), s, 'images_12')"
   ]
  },
  {
   "cell_type": "code",
   "execution_count": 5,
   "id": "ff4db649-6744-49c8-98f9-7d833c0ac85a",
   "metadata": {},
   "outputs": [
    {
     "name": "stdout",
     "output_type": "stream",
     "text": [
      "39949 1186832\n",
      "0 512\n",
      "5 39\n"
     ]
    }
   ],
   "source": [
    "print(scene_count, img_count)\n",
    "print(scene_min, scene_max)\n",
    "print(img_min, img_max)"
   ]
  },
  {
   "cell_type": "code",
   "execution_count": 6,
   "id": "c57b5104-9d23-451f-aa3d-79b1929ec91e",
   "metadata": {},
   "outputs": [
    {
     "name": "stdout",
     "output_type": "stream",
     "text": [
      "./data/154/090001d3/images_12 ./data/174/230054b3/images_12\n"
     ]
    }
   ],
   "source": [
    "print(img_min_path, img_max_path)"
   ]
  },
  {
   "cell_type": "code",
   "execution_count": null,
   "id": "f5d62336-0a69-436a-9627-56e6ec9d3f39",
   "metadata": {},
   "outputs": [],
   "source": []
  }
 ],
 "metadata": {
  "kernelspec": {
   "display_name": "Python 3 (ipykernel)",
   "language": "python",
   "name": "python3"
  },
  "language_info": {
   "codemirror_mode": {
    "name": "ipython",
    "version": 3
   },
   "file_extension": ".py",
   "mimetype": "text/x-python",
   "name": "python",
   "nbconvert_exporter": "python",
   "pygments_lexer": "ipython3",
   "version": "3.12.2"
  }
 },
 "nbformat": 4,
 "nbformat_minor": 5
}
